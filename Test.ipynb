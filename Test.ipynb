{
 "cells": [
  {
   "cell_type": "code",
   "execution_count": null,
   "metadata": {
    "collapsed": true
   },
   "outputs": [],
   "source": [
    "import tensorflow as tf\n",
    "import numpy as np\n",
    "from matplotlib import pyplot as plt\n",
    "import os\n",
    "from dataset import *\n",
    "from vladder import VLadder\n",
    "os.environ['CUDA_VISIBLE_DEVICES'] = '3'"
   ]
  },
  {
   "cell_type": "code",
   "execution_count": null,
   "metadata": {
    "collapsed": true
   },
   "outputs": [],
   "source": [
    "name = 'celebA'"
   ]
  },
  {
   "cell_type": "code",
   "execution_count": null,
   "metadata": {},
   "outputs": [],
   "source": [
    "if name == 'mnist':\n",
    "    dataset = MnistDataset()\n",
    "elif name == 'svhn':\n",
    "    dataset = SVHNDataset(db_path='/data/svhn', use_extra=False)\n",
    "else:\n",
    "    dataset = CelebADataset(db_path='/data/celebA/img_align')"
   ]
  },
  {
   "cell_type": "code",
   "execution_count": null,
   "metadata": {},
   "outputs": [],
   "source": [
    "model = VLadder(dataset)"
   ]
  },
  {
   "cell_type": "code",
   "execution_count": null,
   "metadata": {},
   "outputs": [],
   "source": [
    "img = dataset.next_batch(100)\n",
    "code = model.inference(img)\n",
    "reconstruction = model.generate(code)\n",
    "\n",
    "plt.subplot(1, 2, 1)\n",
    "if name == 'mnist':\n",
    "    plt.imshow(img[0, :, :, 0], cmap='Greys')\n",
    "    plt.subplot(1, 2, 2)\n",
    "    plt.imshow(reconstruction[0, :, :, 0], cmap='Greys')\n",
    "else:\n",
    "    plt.imshow((img[0] + 1.0) / 2.0)\n",
    "    plt.subplot(1, 2, 2)\n",
    "    plt.imshow((reconstruction[0] + 1.0) / 2.0)\n",
    "plt.show()"
   ]
  },
  {
   "cell_type": "code",
   "execution_count": null,
   "metadata": {},
   "outputs": [],
   "source": [
    "# For MNIST\n",
    "if name == 'mnist':\n",
    "    plt.subplot(8, 8, 1)\n",
    "    plt.imshow(img[0, :, :, 0], cmap='Greys')\n",
    "    for i in range(63):\n",
    "        code['ladder0'][0] = np.random.normal(size=[1, 2])\n",
    "        reconstruction = model.generate(code)\n",
    "        plt.subplot(8, 8, i + 2)\n",
    "        plt.imshow(reconstruction[0, :, :, 0], cmap='Greys')\n",
    "    plt.show()"
   ]
  },
  {
   "cell_type": "code",
   "execution_count": null,
   "metadata": {},
   "outputs": [],
   "source": [
    "# For SVHN\n",
    "if name == 'svhn':\n",
    "    plt.subplot(8, 8, 1)\n",
    "    plt.imshow(img[0])\n",
    "    for i in range(63):\n",
    "        code['ladder0'][0] = np.random.normal(size=[1, 5])\n",
    "        reconstruction = model.generate(code)\n",
    "        plt.subplot(8, 8, i + 2)\n",
    "        plt.imshow(reconstruction[0])\n",
    "    plt.show()"
   ]
  },
  {
   "cell_type": "code",
   "execution_count": null,
   "metadata": {},
   "outputs": [],
   "source": [
    "# For CelebA\n",
    "if name == 'celebA':\n",
    "    plt.subplot(8, 8, 1)\n",
    "    plt.imshow((img[0] + 1.0) / 2.0)\n",
    "    for i in range(63):\n",
    "        code['ladder0'][0] = np.random.normal(size=[1, 10])\n",
    "        reconstruction = model.generate(code)\n",
    "        plt.subplot(8, 8, i + 2)\n",
    "        plt.imshow((reconstruction[0] + 1.0) / 2.0)\n",
    "    plt.show()"
   ]
  },
  {
   "cell_type": "code",
   "execution_count": null,
   "metadata": {
    "collapsed": true
   },
   "outputs": [],
   "source": [
    "# men_with_glasses = image (100, 64, 64, 3)\n",
    "# men_without_glasses = image(100, 64, ,64, 3)\n",
    "# women_without_glasses = image(100, 64, 64, 3)\n",
    "# code_for_men_with... = model.inference\n",
    "# ...\n",
    "# \n",
    "# code_for_women_with_glasses['ladder0'] = code_men_with_glasses['ladder0'] - ..\n",
    "# 'ladder1'\n",
    "# 'ladder2'\n",
    "# \n",
    "# \n",
    "# women_with_glasses = model.generate(code_for_women_with_glasses)"
   ]
  }
 ],
 "metadata": {
  "kernelspec": {
   "display_name": "Python 3",
   "language": "python",
   "name": "python3"
  },
  "language_info": {
   "codemirror_mode": {
    "name": "ipython",
    "version": 3
   },
   "file_extension": ".py",
   "mimetype": "text/x-python",
   "name": "python",
   "nbconvert_exporter": "python",
   "pygments_lexer": "ipython3",
   "version": "3.5.2"
  }
 },
 "nbformat": 4,
 "nbformat_minor": 2
}
